{
 "cells": [
  {
   "cell_type": "markdown",
   "metadata": {
    "collapsed": true
   },
   "source": [
    "## Cappadocia Venue Recommendation"
   ]
  },
  {
   "cell_type": "markdown",
   "metadata": {},
   "source": [
    "### Introduction"
   ]
  },
  {
   "cell_type": "markdown",
   "metadata": {},
   "source": [
    "_Cappadocia_ is one of the most visited touristic attraction points in Turkey which is known for its fairy chimneys, valleys covered with natural rock formations, historical monasteries, boutique hotels and hot air balloon tours.\n",
    "\n",
    "Cappadocia region was formed 60 million years ago by erosion of soft layers of lava and ash from Mount Erciyes (Argeus), Mount Hasan and Mount Güllü composing with wind and rain over millions of years.It is a place where nature and history integrates. While geographical events created fairy chimneys – the people carved houses and churches inside these chimneys. Later on decorated them with frescoes in this historical process, bringing the traces of civilizations for thousands of years to present.\n",
    "\n",
    "Due to its unique environment, the number of tourists visiting Cappadocia is increasing year by year. Cappadocia hosted over 2.2 million domestic and foreign tourists in 2017 and with a 33% increase rate it hosted over 2.9 million tourists in 2018.\n",
    "\n",
    "The intention of this study is to recommend venues like hotels, museums, restaurants to visitors who are planning to visit the Göreme region according to FourSquare API venue recommendations with map visualizations."
   ]
  }
 ],
 "metadata": {
  "kernelspec": {
   "display_name": "Python 3.5",
   "language": "python",
   "name": "python3"
  },
  "language_info": {
   "codemirror_mode": {
    "name": "ipython",
    "version": 3
   },
   "file_extension": ".py",
   "mimetype": "text/x-python",
   "name": "python",
   "nbconvert_exporter": "python",
   "pygments_lexer": "ipython3",
   "version": "3.5.5"
  }
 },
 "nbformat": 4,
 "nbformat_minor": 1
}
